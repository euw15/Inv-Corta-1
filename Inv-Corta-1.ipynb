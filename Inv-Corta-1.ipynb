{
 "cells": [
  {
   "cell_type": "markdown",
   "metadata": {},
   "source": [
    "# Inv-Corta-1"
   ]
  },
  {
   "cell_type": "markdown",
   "metadata": {},
   "source": [
    "Hecho por: Edward Umaña Williams, 201128403\n",
    "Este tutorial se divide en dos partes: \n",
    " - Mostrar los beneficios de utilizar pandas, para pre-procesamiento de datos\n",
    " - Realizar un análisis explorativo a un dataset en específico como ejemplo\n"
   ]
  },
  {
   "cell_type": "markdown",
   "metadata": {},
   "source": [
    "## Parte 1 - Pre-procesamiento de datos con Pandas"
   ]
  },
  {
   "cell_type": "markdown",
   "metadata": {},
   "source": [
    "El pre-procesamiento de datos es un paso muy importante de la implementación de un sistema de machine larning, ya realiza una seria de acciones sobre los datos que utilizara el algoritmo que facilitaran y mejoraran las etapas posteriores:\n",
    "\n",
    "Para facilitar la ejecución de las acciones de pre-procesado se utilizara Panda, que es una herramienta de código abierto que brinda estructuras de datos y herramientas de análisis de datos.\n",
    "\n",
    "Las acciones que se realizan durante el pre-procesamiento se explican a continuación:"
   ]
  },
  {
   "cell_type": "markdown",
   "metadata": {},
   "source": [
    "### 1.Determinar partes incompletas"
   ]
  },
  {
   "cell_type": "markdown",
   "metadata": {},
   "source": [
    "En muchas ocaciones nos encontraremos con datasets que presentan datos incompletos. Por lo que es importante decidir de **acorde a la naturaleza de los datos**, que acciones tomar respeto a ellos, algunas opciones se presenta a continuación."
   ]
  },
  {
   "cell_type": "markdown",
   "metadata": {},
   "source": [
    "#### 1.1 Calcular \"media\" del atributo faltante"
   ]
  },
  {
   "cell_type": "markdown",
   "metadata": {},
   "source": [
    "NA es la representación que le da bandas a los atributos faltantes"
   ]
  },
  {
   "cell_type": "markdown",
   "metadata": {},
   "source": [
    "Panda ofrece un metodo para rellenar todos los atributos faltantes con el valor que queremos\n",
    "\n",
    "**DataFrame.fillna(value=None, method=None, axis=None, inplace=False, limit=None, downcast=None)**\n",
    "\n",
    "Y nos ofrece otra función para calcular el promedio:\n",
    "\n",
    "**DataFrame.mean(axis=None, skipna=None, level=None, numeric_only=None)**"
   ]
  },
  {
   "cell_type": "markdown",
   "metadata": {},
   "source": [
    "Por lo tanto para rellenar los atributos faltantes con la media se utiliza:\n",
    "\n",
    "**DataFrame.fillna(DataFrame.mean())**"
   ]
  },
  {
   "cell_type": "markdown",
   "metadata": {},
   "source": [
    "#### 1.2 Calcular \"mediana\" del atributo faltante"
   ]
  },
  {
   "cell_type": "markdown",
   "metadata": {},
   "source": [
    "Simular a la media para rellenar los valores faltantes a la media se debe utilizar la función fillna pero en esta ocasión los datos se rellenan con median()\n",
    "\n",
    "**DataFrame.fillna(DataFrame.median())**"
   ]
  },
  {
   "cell_type": "markdown",
   "metadata": {},
   "source": [
    "#### 1.3 Calcular \"moda\" del atributo faltante"
   ]
  },
  {
   "cell_type": "markdown",
   "metadata": {},
   "source": [
    "De igual manera para rellenar los datos con la moda utilizamos:\n",
    "\n",
    "**DataFrame.fillna(DataFrame.mode())**"
   ]
  },
  {
   "cell_type": "markdown",
   "metadata": {},
   "source": [
    "En todos los casos anteriores rellenamos todos los atributos faltantes, pero si queremos rellenar solo una columna en espesifico podemos espesificar la columna a trabajar en el DataFrame, por ejemplo:\n",
    "\n",
    "**DataFrame['columna'].fillna(DataFrame['columna'].mode())**"
   ]
  },
  {
   "cell_type": "markdown",
   "metadata": {},
   "source": [
    "#### 1.4 Eliminar instancias"
   ]
  },
  {
   "cell_type": "markdown",
   "metadata": {},
   "source": [
    "Eliminar las instacionas es otro recurso que podemos utilizar, para esto pandas nos ofrece:\n",
    "\n",
    "**DataFrame.dropna(axis=0, how='any', thresh=None, inplace=False)**\n",
    "\n",
    "Parametros:\n",
    "\n",
    "axis: determina si se eliman filas o columnas. \n",
    "how: {‘any’, ‘all’}, si con solo una NA se elimina o tienen que faltar todos\n",
    "thresh: limita el valor de ALL a un valor espesifico de faltantes\n",
    "inplace: true, modifica el dataFrame que se esta utilizando\n",
    "\n",
    "Por lo tanto para eliminar instancias que presente al menos un atributo vacio podemos utilizar:\n",
    "\n",
    "**DataFrame.dropna(axis=0, how='any',thresh=None)**"
   ]
  },
  {
   "cell_type": "markdown",
   "metadata": {},
   "source": [
    "Para elimintar una instacia que presente todos los atributos vacios utilizamos:\n",
    "\n",
    "**DataFrame.dropna(axis=0, how='all',thresh=None)**"
   ]
  },
  {
   "cell_type": "markdown",
   "metadata": {},
   "source": [
    "Y por ultimo para eliminar instancias que presenten dos o más atributos vacios utilizamos:\n",
    "\n",
    "**DataFrame.dropna(axis=0,thresh=2)**"
   ]
  },
  {
   "cell_type": "markdown",
   "metadata": {},
   "source": [
    "#### 1.5 Eliminar atributos"
   ]
  },
  {
   "cell_type": "markdown",
   "metadata": {},
   "source": [
    "Para eliminar atributos bajo diferentes condiciones, es muy simular a eliminar instancias, se utiliza la misma función dropna() pero se cambia el parametro axis a 1 o columns"
   ]
  },
  {
   "cell_type": "markdown",
   "metadata": {},
   "source": [
    "Elimina todos los atributos que presenen al menos un atributo faltante\n",
    "\n",
    "**DataFrame.dropna(axis=1, how='any',thresh=None)**"
   ]
  },
  {
   "cell_type": "markdown",
   "metadata": {},
   "source": [
    "Para elimintar un atributo que presente todos los atributos vacios utilizamos:\n",
    "\n",
    "**DataFrame.dropna(axis='columns', how='all',thresh=None)**"
   ]
  },
  {
   "cell_type": "markdown",
   "metadata": {},
   "source": [
    "Finalmente para eliminar atributos que presenten 10 o más atributos vacios utilizamos:\n",
    "\n",
    "**DataFrame.dropna(axis=0,thresh=10)**"
   ]
  },
  {
   "cell_type": "markdown",
   "metadata": {},
   "source": [
    "### 2. Transformación de datos \n",
    "\n",
    "La transformación de datos es una tarea que se realiza con el fin de mejorar la interpretación de los datos, alinear los datos con alguna suposición estadística.\n",
    "\n",
    "Algunas tecnicas de transformación de datos son: normalización, cambio de escala, udo de kernel, One Hoy Encode"
   ]
  },
  {
   "cell_type": "markdown",
   "metadata": {},
   "source": [
    "### 2.1 Cambio de escala\n",
    "\n",
    "Un cambio de escala representa realizar alguna manipulación matematica a los atributos del dataset. Un ejemplo muy conmun es el de normalización"
   ]
  },
  {
   "cell_type": "markdown",
   "metadata": {},
   "source": [
    "### 2.1.1 Normalización\n",
    "\n",
    "El objetivo de la normalización es cambiar el valor de las columnas en el dataset a una escala comun, sin distorcionar los rangos de los valores.\n",
    "\n",
    "Por ejemplo para se puede considerar un data set que considera la edad con rangos entre 0 y 100. Y su salario anual con valores entre 2 000 000 colones hasta 50 000 000 colones. De manera intrinsica el atrirbuto del salario va a tener mayor pense en la ecuación multivariable."
   ]
  },
  {
   "cell_type": "markdown",
   "metadata": {},
   "source": [
    "Con Pandas podemos utilizar la siguiente ecuacion:\n",
    "\n",
    "**NewDataFrame = (DataFrame - DataFrame.mean()) / (DataFrame.max() - DataFrame.min())**\n"
   ]
  },
  {
   "cell_type": "markdown",
   "metadata": {},
   "source": [
    "### 2.2 One Hot Encode\n",
    "\n",
    "One hot enconding es una tecnica para convertir atributos de categorias en vectores numericos. Ya que los algoritmos que se utilizaran requieren de valores numericos como entradas.\n",
    "\n",
    "Por ejemplo en una, un vector que puede contener los siguientes atributos:\n",
    "\n",
    "Vehiculos = [Nissan, Honda, Hyundai, Toyota]. \n",
    "\n",
    "Utilizando Hot Encode obtendremos que:\n",
    "\n",
    "Nissan  = [1,0,0,0]\n",
    "Honda   = [0,1,0,0]\n",
    "Hyundai = [0,0,1,0]\n",
    "Toyota  = [0,0,0,1]"
   ]
  },
  {
   "cell_type": "markdown",
   "metadata": {},
   "source": [
    "*Pandas* ofrece una la función get_dummies()\n",
    "\n",
    "**get_dummies(data, prefix=None, prefix_sep='_', dummy_na=False, columns=None, sparse=False, drop_first=False, dtype=None)**\n",
    "\n",
    "Que convierte variables con categorias en indicadores One Hot Encode."
   ]
  },
  {
   "cell_type": "markdown",
   "metadata": {},
   "source": [
    "Primero convertimos nuestro atributo a la representación categorica de panda\n",
    "\n",
    "**DataFrame['categorical'] = DataFrame.Categorical(df['categorical'])**\n",
    "\n",
    "Y la convertimos a la representación deseada\n",
    "\n",
    "**HotOneDataFrame = Pandas.get_dummies(DataFrame['categorical'], prefix = 'category')**"
   ]
  },
  {
   "cell_type": "markdown",
   "metadata": {},
   "source": [
    "### 3.Exploración de los Datos\n",
    "\n",
    "Parte del pre-procesamiento es comprender el comportamiento de los datos, para evitar tener que asumir hechos. "
   ]
  },
  {
   "cell_type": "markdown",
   "metadata": {},
   "source": [
    "### 3.1 Exploración Visual\n",
    "\n",
    "La visialización de los datos permite identificar relaciones entre atributos. Y para esto **panda junto con matplotlib y numpy** ofrece una seria de herramientas para graficar como Histogramas, Graficos de Linea, Scatter Plots,Kernel Density Plots, Hexagonal Plots.\n",
    "\n",
    "*Histogramas*\n",
    "\n",
    "**DataFrame['columna'].hist()**\n",
    "\n",
    "*Grafico de linea*\n",
    "\n",
    "**DataFrame.plot.line(x='columna1', y='columna2', figsize=(8,6))**  \n",
    "\n",
    "*Scatter plots*\n",
    "\n",
    "**DataFrame.plot.scatter(x='columna1', y='columna2', figsize=(8,6))** \n",
    "\n",
    "*Kernel Density Plots*\n",
    "\n",
    "**DataFrame['columna1'].plot.kde()**\n",
    "\n",
    "*Hexagonal Plots*\n",
    "\n",
    "**DataFrame.plot.hexbin(x='columna1',y='columna2',gridsize=30,figsize=(8,6))**\n",
    "\n",
    "*Box Plot*\n",
    "\n",
    "**DataFrame.plot.box(figsize=(10,8))**  "
   ]
  },
  {
   "cell_type": "markdown",
   "metadata": {},
   "source": [
    "### 3.2 Resumen Estadistico"
   ]
  },
  {
   "cell_type": "markdown",
   "metadata": {},
   "source": [
    "Otra manera de comprender los datos es ver el comportamiento estadistico de los datos. Para esto panda ofrece la función describe.\n",
    "\n",
    "**DataFrame.describe(percentiles=None, include=None, exclude=None)**\n",
    "\n",
    "cuyo resultado ofrece: count, mean, std, min, 25%, 50%, 75%, max, dtype."
   ]
  },
  {
   "cell_type": "markdown",
   "metadata": {},
   "source": [
    "### 4.Datos no balanceados"
   ]
  },
  {
   "cell_type": "markdown",
   "metadata": {},
   "source": [
    "Los datos no balanseados se presentan cuando la distribución de las clases no es uniforme y una o varias de ellas están sosbre/infra-representada. Por lo que debemos tomar esta caracteristica en cuenta a la hora de desarrollar nuestro algoritmo.\n",
    "\n",
    "Dos tecnicas muy comunes son el **sub-muestro**, que elimina instancias abudantes en caso de que existan sufientes datos y por otra parte esta el **sobre-muestreo** que se encarga de generar instancias faltantes mediante métodos de repetición o generación, solo en caso de que sea posible.\n",
    "\n",
    "Para hacer undersampling con Pandas y Python debemos realizar una serie de pasos detallados a continuación. \n",
    "\n",
    "Supongamos dos categorias para el atributo profesión, para este ejemplo: **Abogados e Ingenieros**. El ministerio de trabajo nos ofrece un dataset que contiene 90% de los datos en la categoría de abogados. Por lo tanto queremos balancearlos.  \n"
   ]
  },
  {
   "cell_type": "markdown",
   "metadata": {},
   "source": [
    "//Obtenemos la cantidad de ingenieros que tenemos en el sistema \n",
    "**numeroIngenieros = len(DataFrame[DataFrame['Profesión'] == 'Ingenieros']) **\n",
    "\n",
    "//Identificamos los indices de todos los abogados\n",
    "**indiceAbogados = DataFrame[DataFrame.Profesión == 'Abogados'].index **\n",
    "\n",
    "//Identificamos los indices de todos los ingenieros\n",
    "**indiceIngenieros = DataFrame[DataFrame.Class == 'Ingenieros'].index**\n",
    "\n",
    "//Obtenemos una cantidad de indices aletoreos igual a la cantidad de ingenieros\n",
    "**AbogadosAletoreos = np.random.choice(indiceAbogados,numeroIngenieros, replace=False) **\n",
    "\n",
    "//Mezclamos ambos indices\n",
    "DatosSubMuestreados = np.concatenate([AbogadosAletoreos,indiceIngenieros])"
   ]
  },
  {
   "cell_type": "markdown",
   "metadata": {},
   "source": [
    "### 5. Outliers"
   ]
  },
  {
   "cell_type": "markdown",
   "metadata": {},
   "source": [
    "Los outliers son datos que no siguen la generalización del conjunto, y al ser la generelización el objetivo principal de nuestro algoritmo, es común querer identificarlos para eliminarlos.\n",
    "\n",
    "Para identificarlos podemos de igual manera utilizar Pandas"
   ]
  },
  {
   "cell_type": "markdown",
   "metadata": {},
   "source": [
    "#### 5.1 Scatter Plot\n",
    "\n",
    "Este grafico representa la colleción de puntos que muentras los valores de dos variables.\n",
    "\n",
    "**ax = plt.subplots(figsize=(16,8)) **\n",
    "**ax.scatter(DataFrame['Columna1'], DataFrame['Columna2']) **\n",
    "**plt.show()**"
   ]
  },
  {
   "cell_type": "markdown",
   "metadata": {},
   "source": [
    "#### 5.2 Box Plot\n",
    "\n",
    "En la estadistica descriptiva, se utiliza el metodo de box plot para detectar grupos de datos numeros en sus cuartiles. Estos graficos contienen lineas verticales que indican valores por encima o por abajo de los cuartiles.\n",
    "\n",
    "**sns.boxplot(x=DataFrame['columna'])**"
   ]
  },
  {
   "cell_type": "markdown",
   "metadata": {},
   "source": [
    "#### 5.3 Z-Score\n",
    "\n",
    "El Z-Score es el numero de distancia positivo o negativo que presenta un valor respecto a su valor estandar. Con esto podemos identificar valores que esten muy lejos de 0, como posibles outliers\n",
    "\n",
    "Utilizando scipy podemos obtener este valor\n",
    "\n",
    "from scipy import stats\n",
    "import numpy as np\n",
    "\n",
    "**z = np.abs(stats.zscore(DataFrame))**"
   ]
  },
  {
   "cell_type": "markdown",
   "metadata": {},
   "source": [
    "#### 5.4 IQR score\n",
    "\n",
    "El rango intercuartílico es una medida de disperción estadistica, igual a la diferente entre el percentil 75 y el 25. En otras palabras IQR = Q3 - Q1\n",
    "\n",
    "**Q1 = DataFrame.quantile(0.25)**\n",
    "**Q3 = DataFrame.quantile(0.75)**\n",
    "**IQR = Q3 - Q1**"
   ]
  },
  {
   "cell_type": "markdown",
   "metadata": {},
   "source": [
    "## Parte 2 - Pre-procesamiento de datos con Pandas"
   ]
  },
  {
   "cell_type": "markdown",
   "metadata": {},
   "source": [
    "En esta segunda parte vamos a realizar un pre procesamiento de datos a un data set.\n",
    "\n",
    "El data set consiste en el log de un Nissan Leaf, que reporta el consumo de potencía de este vehículo eléctrico data la distancía recorrida, elevación, velocidad, etc."
   ]
  },
  {
   "cell_type": "markdown",
   "metadata": {},
   "source": [
    "Cargamos todas las librerías que utilizaremos durante el pre-procesamiento"
   ]
  },
  {
   "cell_type": "code",
   "execution_count": 97,
   "metadata": {},
   "outputs": [],
   "source": [
    "import pandas as pd\n",
    "import os\n",
    "import numpy as np\n",
    "from os import listdir\n",
    "from os.path import isfile, join\n",
    "%matplotlib inline\n",
    "import matplotlib.pyplot as plt"
   ]
  },
  {
   "cell_type": "markdown",
   "metadata": {},
   "source": [
    "Creamos una función que cargue el dataset a utilizar"
   ]
  },
  {
   "cell_type": "code",
   "execution_count": 84,
   "metadata": {},
   "outputs": [],
   "source": [
    "CAR_PATH = os.path.join(\"data\", \"car\")\n",
    "\n",
    "def Load_CarData(fileName):\n",
    "    csv_path = os.path.join(CAR_PATH, fileName)\n",
    "    return pd.read_csv(csv_path)"
   ]
  },
  {
   "cell_type": "markdown",
   "metadata": {},
   "source": [
    "Creamos nuestro dataset al que llamaremos CarDataSet"
   ]
  },
  {
   "cell_type": "code",
   "execution_count": 85,
   "metadata": {},
   "outputs": [],
   "source": [
    "\n",
    "CarDataSet = Load_CarData(\"Resumen.csv\")\n"
   ]
  },
  {
   "cell_type": "markdown",
   "metadata": {},
   "source": [
    "Panda permite ver los primeros valores del data set utilizando head(), con esto verificamos\n",
    "que el data ser cargo correctamente"
   ]
  },
  {
   "cell_type": "code",
   "execution_count": 86,
   "metadata": {},
   "outputs": [
    {
     "data": {
      "text/html": [
       "<div>\n",
       "<style scoped>\n",
       "    .dataframe tbody tr th:only-of-type {\n",
       "        vertical-align: middle;\n",
       "    }\n",
       "\n",
       "    .dataframe tbody tr th {\n",
       "        vertical-align: top;\n",
       "    }\n",
       "\n",
       "    .dataframe thead th {\n",
       "        text-align: right;\n",
       "    }\n",
       "</style>\n",
       "<table border=\"1\" class=\"dataframe\">\n",
       "  <thead>\n",
       "    <tr style=\"text-align: right;\">\n",
       "      <th></th>\n",
       "      <th>Archivo</th>\n",
       "      <th>SOC_INIT</th>\n",
       "      <th>SOC_END</th>\n",
       "      <th>DIF_SOC</th>\n",
       "      <th>POWER_CONSUMED</th>\n",
       "      <th>DISTANCIA</th>\n",
       "      <th>DURACION</th>\n",
       "      <th>VELOCIDAD_PROMEDIO</th>\n",
       "      <th>ELEVACION</th>\n",
       "      <th>DESCENSO</th>\n",
       "    </tr>\n",
       "  </thead>\n",
       "  <tbody>\n",
       "    <tr>\n",
       "      <th>0</th>\n",
       "      <td>Ride_1.csv</td>\n",
       "      <td>21.8513</td>\n",
       "      <td>22.0118</td>\n",
       "      <td>-0.1605</td>\n",
       "      <td>-80.0</td>\n",
       "      <td>0.000</td>\n",
       "      <td>1</td>\n",
       "      <td>0.00</td>\n",
       "      <td>0</td>\n",
       "      <td>0</td>\n",
       "    </tr>\n",
       "    <tr>\n",
       "      <th>1</th>\n",
       "      <td>Ride_10.csv</td>\n",
       "      <td>39.6588</td>\n",
       "      <td>39.5568</td>\n",
       "      <td>0.1020</td>\n",
       "      <td>0.0</td>\n",
       "      <td>0.072</td>\n",
       "      <td>1</td>\n",
       "      <td>0.00</td>\n",
       "      <td>11</td>\n",
       "      <td>20</td>\n",
       "    </tr>\n",
       "    <tr>\n",
       "      <th>2</th>\n",
       "      <td>Ride_100.csv</td>\n",
       "      <td>53.0911</td>\n",
       "      <td>35.1072</td>\n",
       "      <td>17.9839</td>\n",
       "      <td>3920.0</td>\n",
       "      <td>17.138</td>\n",
       "      <td>44</td>\n",
       "      <td>38.80</td>\n",
       "      <td>579</td>\n",
       "      <td>572</td>\n",
       "    </tr>\n",
       "    <tr>\n",
       "      <th>3</th>\n",
       "      <td>Ride_101.csv</td>\n",
       "      <td>62.0617</td>\n",
       "      <td>53.2632</td>\n",
       "      <td>8.7985</td>\n",
       "      <td>1840.0</td>\n",
       "      <td>7.483</td>\n",
       "      <td>35</td>\n",
       "      <td>19.44</td>\n",
       "      <td>342</td>\n",
       "      <td>232</td>\n",
       "    </tr>\n",
       "    <tr>\n",
       "      <th>4</th>\n",
       "      <td>Ride_102.csv</td>\n",
       "      <td>44.0433</td>\n",
       "      <td>40.4309</td>\n",
       "      <td>3.6124</td>\n",
       "      <td>640.0</td>\n",
       "      <td>6.794</td>\n",
       "      <td>11</td>\n",
       "      <td>41.95</td>\n",
       "      <td>122</td>\n",
       "      <td>238</td>\n",
       "    </tr>\n",
       "  </tbody>\n",
       "</table>\n",
       "</div>"
      ],
      "text/plain": [
       "        Archivo  SOC_INIT  SOC_END  DIF_SOC  POWER_CONSUMED  DISTANCIA  \\\n",
       "0    Ride_1.csv   21.8513  22.0118  -0.1605           -80.0      0.000   \n",
       "1   Ride_10.csv   39.6588  39.5568   0.1020             0.0      0.072   \n",
       "2  Ride_100.csv   53.0911  35.1072  17.9839          3920.0     17.138   \n",
       "3  Ride_101.csv   62.0617  53.2632   8.7985          1840.0      7.483   \n",
       "4  Ride_102.csv   44.0433  40.4309   3.6124           640.0      6.794   \n",
       "\n",
       "   DURACION  VELOCIDAD_PROMEDIO  ELEVACION  DESCENSO  \n",
       "0         1                0.00          0         0  \n",
       "1         1                0.00         11        20  \n",
       "2        44               38.80        579       572  \n",
       "3        35               19.44        342       232  \n",
       "4        11               41.95        122       238  "
      ]
     },
     "execution_count": 86,
     "metadata": {},
     "output_type": "execute_result"
    }
   ],
   "source": [
    "CarDataSet.head()"
   ]
  },
  {
   "cell_type": "markdown",
   "metadata": {},
   "source": [
    "Para conocer el tipo de atributos con el que estamos trabajando utilizaremos info()"
   ]
  },
  {
   "cell_type": "code",
   "execution_count": 87,
   "metadata": {},
   "outputs": [
    {
     "name": "stdout",
     "output_type": "stream",
     "text": [
      "<class 'pandas.core.frame.DataFrame'>\n",
      "RangeIndex: 428 entries, 0 to 427\n",
      "Data columns (total 10 columns):\n",
      "Archivo               428 non-null object\n",
      "SOC_INIT              428 non-null float64\n",
      "SOC_END               428 non-null float64\n",
      "DIF_SOC               428 non-null float64\n",
      "POWER_CONSUMED        428 non-null float64\n",
      "DISTANCIA             428 non-null float64\n",
      "DURACION              428 non-null int64\n",
      "VELOCIDAD_PROMEDIO    428 non-null float64\n",
      "ELEVACION             428 non-null int64\n",
      "DESCENSO              428 non-null int64\n",
      "dtypes: float64(6), int64(3), object(1)\n",
      "memory usage: 33.5+ KB\n"
     ]
    }
   ],
   "source": [
    "CarDataSet.info()"
   ]
  },
  {
   "cell_type": "markdown",
   "metadata": {},
   "source": [
    "De la información anterior podemos observar que tenemos 428 entries, y que todos los atributos tienen sus 428 instancias,\n",
    "por lo que no existen valores vacios."
   ]
  },
  {
   "cell_type": "markdown",
   "metadata": {},
   "source": [
    "Procedemos a eliminar algunos atributos que no son necesarios, como Archivo, SOC_INIT y SOC_END para luego procedecer con el analisis"
   ]
  },
  {
   "cell_type": "code",
   "execution_count": 88,
   "metadata": {},
   "outputs": [
    {
     "name": "stdout",
     "output_type": "stream",
     "text": [
      "<class 'pandas.core.frame.DataFrame'>\n",
      "RangeIndex: 428 entries, 0 to 427\n",
      "Data columns (total 7 columns):\n",
      "DIF_SOC               428 non-null float64\n",
      "POWER_CONSUMED        428 non-null float64\n",
      "DISTANCIA             428 non-null float64\n",
      "DURACION              428 non-null int64\n",
      "VELOCIDAD_PROMEDIO    428 non-null float64\n",
      "ELEVACION             428 non-null int64\n",
      "DESCENSO              428 non-null int64\n",
      "dtypes: float64(4), int64(3)\n",
      "memory usage: 23.5 KB\n"
     ]
    }
   ],
   "source": [
    "CarDataSet = CarDataSet.drop(['SOC_INIT'],axis=1)\n",
    "CarDataSet = CarDataSet.drop(['SOC_END'],axis=1)\n",
    "CarDataSet = CarDataSet.drop(['Archivo'],axis=1)\n",
    "CarDataSet.info()"
   ]
  },
  {
   "cell_type": "markdown",
   "metadata": {},
   "source": [
    "Para inciar el analisís de los datos utizaremos un acercamiento estadistico en primera instancia"
   ]
  },
  {
   "cell_type": "code",
   "execution_count": 89,
   "metadata": {},
   "outputs": [
    {
     "data": {
      "text/html": [
       "<div>\n",
       "<style scoped>\n",
       "    .dataframe tbody tr th:only-of-type {\n",
       "        vertical-align: middle;\n",
       "    }\n",
       "\n",
       "    .dataframe tbody tr th {\n",
       "        vertical-align: top;\n",
       "    }\n",
       "\n",
       "    .dataframe thead th {\n",
       "        text-align: right;\n",
       "    }\n",
       "</style>\n",
       "<table border=\"1\" class=\"dataframe\">\n",
       "  <thead>\n",
       "    <tr style=\"text-align: right;\">\n",
       "      <th></th>\n",
       "      <th>DIF_SOC</th>\n",
       "      <th>POWER_CONSUMED</th>\n",
       "      <th>DISTANCIA</th>\n",
       "      <th>DURACION</th>\n",
       "      <th>VELOCIDAD_PROMEDIO</th>\n",
       "      <th>ELEVACION</th>\n",
       "      <th>DESCENSO</th>\n",
       "    </tr>\n",
       "  </thead>\n",
       "  <tbody>\n",
       "    <tr>\n",
       "      <th>count</th>\n",
       "      <td>428.000000</td>\n",
       "      <td>428.000000</td>\n",
       "      <td>428.000000</td>\n",
       "      <td>428.000000</td>\n",
       "      <td>428.000000</td>\n",
       "      <td>428.000000</td>\n",
       "      <td>428.000000</td>\n",
       "    </tr>\n",
       "    <tr>\n",
       "      <th>mean</th>\n",
       "      <td>3.248468</td>\n",
       "      <td>677.009346</td>\n",
       "      <td>199.738694</td>\n",
       "      <td>13.429907</td>\n",
       "      <td>29.197757</td>\n",
       "      <td>138.768692</td>\n",
       "      <td>155.665888</td>\n",
       "    </tr>\n",
       "    <tr>\n",
       "      <th>std</th>\n",
       "      <td>6.917165</td>\n",
       "      <td>1508.733802</td>\n",
       "      <td>1334.351011</td>\n",
       "      <td>13.990704</td>\n",
       "      <td>19.673854</td>\n",
       "      <td>264.305232</td>\n",
       "      <td>203.295341</td>\n",
       "    </tr>\n",
       "    <tr>\n",
       "      <th>min</th>\n",
       "      <td>-56.713800</td>\n",
       "      <td>-12160.000000</td>\n",
       "      <td>0.000000</td>\n",
       "      <td>0.000000</td>\n",
       "      <td>-4.270000</td>\n",
       "      <td>0.000000</td>\n",
       "      <td>-830.000000</td>\n",
       "    </tr>\n",
       "    <tr>\n",
       "      <th>25%</th>\n",
       "      <td>0.088525</td>\n",
       "      <td>0.000000</td>\n",
       "      <td>1.183250</td>\n",
       "      <td>5.000000</td>\n",
       "      <td>16.802500</td>\n",
       "      <td>16.750000</td>\n",
       "      <td>27.000000</td>\n",
       "    </tr>\n",
       "    <tr>\n",
       "      <th>50%</th>\n",
       "      <td>1.527950</td>\n",
       "      <td>320.000000</td>\n",
       "      <td>3.728500</td>\n",
       "      <td>10.000000</td>\n",
       "      <td>30.165000</td>\n",
       "      <td>66.000000</td>\n",
       "      <td>114.500000</td>\n",
       "    </tr>\n",
       "    <tr>\n",
       "      <th>75%</th>\n",
       "      <td>4.996825</td>\n",
       "      <td>1120.000000</td>\n",
       "      <td>5.153500</td>\n",
       "      <td>17.000000</td>\n",
       "      <td>40.037500</td>\n",
       "      <td>151.000000</td>\n",
       "      <td>238.000000</td>\n",
       "    </tr>\n",
       "    <tr>\n",
       "      <th>max</th>\n",
       "      <td>66.393700</td>\n",
       "      <td>14480.000000</td>\n",
       "      <td>9310.204000</td>\n",
       "      <td>90.000000</td>\n",
       "      <td>105.550000</td>\n",
       "      <td>2160.000000</td>\n",
       "      <td>2631.000000</td>\n",
       "    </tr>\n",
       "  </tbody>\n",
       "</table>\n",
       "</div>"
      ],
      "text/plain": [
       "          DIF_SOC  POWER_CONSUMED    DISTANCIA    DURACION  \\\n",
       "count  428.000000      428.000000   428.000000  428.000000   \n",
       "mean     3.248468      677.009346   199.738694   13.429907   \n",
       "std      6.917165     1508.733802  1334.351011   13.990704   \n",
       "min    -56.713800   -12160.000000     0.000000    0.000000   \n",
       "25%      0.088525        0.000000     1.183250    5.000000   \n",
       "50%      1.527950      320.000000     3.728500   10.000000   \n",
       "75%      4.996825     1120.000000     5.153500   17.000000   \n",
       "max     66.393700    14480.000000  9310.204000   90.000000   \n",
       "\n",
       "       VELOCIDAD_PROMEDIO    ELEVACION     DESCENSO  \n",
       "count          428.000000   428.000000   428.000000  \n",
       "mean            29.197757   138.768692   155.665888  \n",
       "std             19.673854   264.305232   203.295341  \n",
       "min             -4.270000     0.000000  -830.000000  \n",
       "25%             16.802500    16.750000    27.000000  \n",
       "50%             30.165000    66.000000   114.500000  \n",
       "75%             40.037500   151.000000   238.000000  \n",
       "max            105.550000  2160.000000  2631.000000  "
      ]
     },
     "execution_count": 89,
     "metadata": {},
     "output_type": "execute_result"
    }
   ],
   "source": [
    "CarDataSet.describe()"
   ]
  },
  {
   "cell_type": "markdown",
   "metadata": {},
   "source": [
    "De entrada podemos observar algunos valores con poco sentido, por ejemplo una velocidad primedio minima de -4km/h \n",
    "o una diferencía de estado de carga negativa, o incluso la velocidad promedio de 105km/h. Por lo que procedemos a graficar los datos para identificar outliers."
   ]
  },
  {
   "cell_type": "code",
   "execution_count": 90,
   "metadata": {},
   "outputs": [
    {
     "data": {
      "image/png": "[encoded data removed]",
      "text/plain": [
       "<Figure size 1440x1080 with 9 Axes>"
      ]
     },
     "metadata": {
      "needs_background": "light"
     },
     "output_type": "display_data"
    }
   ],
   "source": [
    "CarDataSet.hist(bins=50, figsize=(20,15))\n",
    "plt.show()"
   ]
  },
  {
   "cell_type": "markdown",
   "metadata": {},
   "source": [
    "El grafico de la distancia no tiene un comportamiento esperado, por lo que procedemos a graficar solo ese atributo."
   ]
  },
  {
   "cell_type": "code",
   "execution_count": 91,
   "metadata": {},
   "outputs": [
    {
     "data": {
      "text/plain": [
       "<matplotlib.axes._subplots.AxesSubplot at 0xb644c50>"
      ]
     },
     "execution_count": 91,
     "metadata": {},
     "output_type": "execute_result"
    },
    {
     "data": {
      "image/png": "[encoded data removed]",
      "text/plain": [
       "<Figure size 432x288 with 1 Axes>"
      ]
     },
     "metadata": {
      "needs_background": "light"
     },
     "output_type": "display_data"
    }
   ],
   "source": [
    "CarDataSet.plot(kind=\"scatter\", x=\"DISTANCIA\", y=\"POWER_CONSUMED\")"
   ]
  },
  {
   "cell_type": "markdown",
   "metadata": {},
   "source": [
    "Efectivamente identificamos datos que no poseen sentido y que deben representar un error\n",
    "en la abquisición de datos, ya que sabemos que no se realizo ningun recorrido de mas de \n",
    "8000km en un solo viaje. Por lo que procedemos a eliminar esos valores."
   ]
  },
  {
   "cell_type": "code",
   "execution_count": 92,
   "metadata": {},
   "outputs": [
    {
     "data": {
      "text/plain": [
       "<matplotlib.axes._subplots.AxesSubplot at 0xa577e80>"
      ]
     },
     "execution_count": 92,
     "metadata": {},
     "output_type": "execute_result"
    },
    {
     "data": {
      "image/png": "[encoded data removed]",
      "text/plain": [
       "<Figure size 432x288 with 1 Axes>"
      ]
     },
     "metadata": {
      "needs_background": "light"
     },
     "output_type": "display_data"
    }
   ],
   "source": [
    "CarDataSet = CarDataSet[CarDataSet['DISTANCIA'] > 2]\n",
    "CarDataSet = CarDataSet[CarDataSet['DISTANCIA'] < 2000]\n",
    "CarDataSet = CarDataSet[CarDataSet['POWER_CONSUMED'] > 0]\n",
    "CarDataSet.plot(kind=\"scatter\", x=\"DISTANCIA\", y=\"POWER_CONSUMED\")"
   ]
  },
  {
   "cell_type": "markdown",
   "metadata": {},
   "source": [
    "Ahora si podemos identificar como el consumo de potencía de un vehiculo electrico aumenta conforme aumenta la distancia "
   ]
  },
  {
   "cell_type": "markdown",
   "metadata": {},
   "source": [
    "Verificamos de igual manera la relación de la elevación y el consumo de potencia. Confirmamos que tiene el comportamiento esperado."
   ]
  },
  {
   "cell_type": "code",
   "execution_count": 93,
   "metadata": {},
   "outputs": [
    {
     "data": {
      "text/plain": [
       "<matplotlib.axes._subplots.AxesSubplot at 0xb563748>"
      ]
     },
     "execution_count": 93,
     "metadata": {},
     "output_type": "execute_result"
    },
    {
     "data": {
      "image/png": "[encoded data removed]",
      "text/plain": [
       "<Figure size 432x288 with 1 Axes>"
      ]
     },
     "metadata": {
      "needs_background": "light"
     },
     "output_type": "display_data"
    }
   ],
   "source": [
    "CarDataSet.plot(kind=\"scatter\", x=\"ELEVACION\", y=\"POWER_CONSUMED\")"
   ]
  },
  {
   "cell_type": "markdown",
   "metadata": {},
   "source": [
    "Como el objetivo principal del algoritmo es la generelización procedemos a eliminar los quinteles exteriores."
   ]
  },
  {
   "cell_type": "code",
   "execution_count": 77,
   "metadata": {},
   "outputs": [
    {
     "name": "stdout",
     "output_type": "stream",
     "text": [
      "<class 'pandas.core.frame.DataFrame'>\n",
      "Int64Index: 218 entries, 2 to 426\n",
      "Data columns (total 10 columns):\n",
      "Archivo               218 non-null object\n",
      "SOC_INIT              218 non-null float64\n",
      "SOC_END               218 non-null float64\n",
      "DIF_SOC               218 non-null float64\n",
      "POWER_CONSUMED        218 non-null float64\n",
      "DISTANCIA             218 non-null float64\n",
      "DURACION              218 non-null int64\n",
      "VELOCIDAD_PROMEDIO    218 non-null float64\n",
      "ELEVACION             218 non-null int64\n",
      "DESCENSO              218 non-null int64\n",
      "dtypes: float64(6), int64(3), object(1)\n",
      "memory usage: 18.7+ KB\n"
     ]
    }
   ],
   "source": [
    "np.percentile(CarDataSet.ELEVACION,95)\n",
    "np.percentile(CarDataSet.ELEVACION,5)\n",
    "np.percentile(CarDataSet.DISTANCIA,95)\n",
    "np.percentile(CarDataSet.DISTANCIA,5)"
   ]
  },
  {
   "cell_type": "markdown",
   "metadata": {},
   "source": [
    "Como resultado obtenemos:"
   ]
  },
  {
   "cell_type": "code",
   "execution_count": 94,
   "metadata": {},
   "outputs": [
    {
     "name": "stdout",
     "output_type": "stream",
     "text": [
      "<class 'pandas.core.frame.DataFrame'>\n",
      "Int64Index: 218 entries, 2 to 426\n",
      "Data columns (total 7 columns):\n",
      "DIF_SOC               218 non-null float64\n",
      "POWER_CONSUMED        218 non-null float64\n",
      "DISTANCIA             218 non-null float64\n",
      "DURACION              218 non-null int64\n",
      "VELOCIDAD_PROMEDIO    218 non-null float64\n",
      "ELEVACION             218 non-null int64\n",
      "DESCENSO              218 non-null int64\n",
      "dtypes: float64(4), int64(3)\n",
      "memory usage: 13.6 KB\n"
     ]
    }
   ],
   "source": [
    "CarDataSet.info()"
   ]
  },
  {
   "cell_type": "markdown",
   "metadata": {},
   "source": [
    "Como ultimo paso de pre procesamiento procedemos a normalizar los datos utilizando sklearn"
   ]
  },
  {
   "cell_type": "code",
   "execution_count": 101,
   "metadata": {},
   "outputs": [],
   "source": [
    "CarDataSet = (CarDataSet - CarDataSet.mean()) / (CarDataSet.max() - CarDataSet.min())"
   ]
  },
  {
   "cell_type": "markdown",
   "metadata": {},
   "source": [
    "Verificamos que Mean sea un valor cercano a 0"
   ]
  },
  {
   "cell_type": "code",
   "execution_count": 102,
   "metadata": {},
   "outputs": [
    {
     "data": {
      "text/plain": [
       "DIF_SOC              -1.041630e-17\n",
       "POWER_CONSUMED       -5.092766e-19\n",
       "DISTANCIA            -2.419064e-18\n",
       "DURACION             -9.930894e-18\n",
       "VELOCIDAD_PROMEDIO   -1.406240e-16\n",
       "ELEVACION            -7.846043e-18\n",
       "DESCENSO             -6.365958e-19\n",
       "dtype: float64"
      ]
     },
     "execution_count": 102,
     "metadata": {},
     "output_type": "execute_result"
    }
   ],
   "source": [
    "CarDataSet.mean()"
   ]
  },
  {
   "cell_type": "code",
   "execution_count": null,
   "metadata": {},
   "outputs": [],
   "source": [
    "Con esto tenemos un dataset listo para ser procesado utilizando algun algoritmo de machine learning."
   ]
  },
  {
   "cell_type": "markdown",
   "metadata": {},
   "source": [
    "## Referencias"
   ]
  },
  {
   "cell_type": "markdown",
   "metadata": {},
   "source": [
    "MSc. Felipe Meza. Material de Clase 1\n",
    "\n",
    "\n",
    "Python Data Analysis Library. Recuperado de: https://pandas.pydata.org\n",
    "\n",
    "Why normalization is necessary for machine learning. Recuperado de: https://medium.com/@urvashilluniya/why-data-normalization-is-necessary-for-machine-learning-models-681b65a05029\n",
    "\n",
    "Python one hot encoding with pandas. Recuperado de: http://www.insightsbot.com/blog/zuyVu/python-one-hot-encoding-with-pandas-made-simple\n",
    "\n",
    "Pandas Library for data visualization in python. Recuprado de: https://stackabuse.com/pandas-library-for-data-visualization-in-python/\n",
    "\n",
    "Class imbalance. Recuperado de: http://blog.madhukaraphatak.com/class-imbalance-part-2/\n",
    "\n",
    "Ways to detect and remove the outliers. Recuperado de: https://towardsdatascience.com/ways-to-detect-and-remove-the-outliers-404d16608dba\n",
    "\n"
   ]
  },
  {
   "cell_type": "code",
   "execution_count": null,
   "metadata": {},
   "outputs": [],
   "source": []
  }
 ],
 "metadata": {
  "kernelspec": {
   "display_name": "Python 3",
   "language": "python",
   "name": "python3"
  },
  "language_info": {
   "codemirror_mode": {
    "name": "ipython",
    "version": 3
   },
   "file_extension": ".py",
   "mimetype": "text/x-python",
   "name": "python",
   "nbconvert_exporter": "python",
   "pygments_lexer": "ipython3",
   "version": "3.7.3"
  }
 },
 "nbformat": 4,
 "nbformat_minor": 2
}
